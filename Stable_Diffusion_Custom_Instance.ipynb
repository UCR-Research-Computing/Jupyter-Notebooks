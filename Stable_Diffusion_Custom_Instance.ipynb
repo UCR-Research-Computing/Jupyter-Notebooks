{
  "cells": [
    {
      "cell_type": "markdown",
      "metadata": {
        "id": "view-in-github",
        "colab_type": "text"
      },
      "source": [
        "<a href=\"https://colab.research.google.com/github/UCR-Research-Computing/Jupyter-Notebooks/blob/main/Stable_Diffusion_Custom_Instance.ipynb\" target=\"_parent\"><img src=\"https://colab.research.google.com/assets/colab-badge.svg\" alt=\"Open In Colab\"/></a>"
      ]
    },
    {
      "cell_type": "code",
      "source": [
        "!pwd\n"
      ],
      "metadata": {
        "id": "iqwCg84h48dF"
      },
      "execution_count": null,
      "outputs": []
    },
    {
      "cell_type": "code",
      "source": [
        "!df -h"
      ],
      "metadata": {
        "id": "hAiW5Us_83t_",
        "collapsed": true
      },
      "execution_count": null,
      "outputs": []
    },
    {
      "cell_type": "code",
      "execution_count": null,
      "metadata": {
        "id": "zHkHsdtnry57"
      },
      "outputs": [],
      "source": [
        "!nvidia-smi"
      ]
    },
    {
      "cell_type": "markdown",
      "metadata": {
        "id": "paJt_cx5QgVz"
      },
      "source": [
        "Next, you should install `diffusers==0.4.0` as well `scipy`, `ftfy` and `transformers`."
      ]
    },
    {
      "cell_type": "code",
      "execution_count": null,
      "metadata": {
        "id": "aIrgth7sqFML"
      },
      "outputs": [],
      "source": [
        "!pip install diffusers==0.4.0\n",
        "!pip install transformers scipy ftfy\n",
        "!pip install \"ipywidgets>=7,<8\""
      ]
    },
    {
      "cell_type": "markdown",
      "source": [
        "You also need to accept the model license before downloading or using the weights. In this post we'll use model version `v1-4`, so you'll need to  visit [its card](https://huggingface.co/CompVis/stable-diffusion-v1-4), read the license and tick the checkbox if you agree. \n",
        "\n",
        "You have to be a registered user in 🤗 Hugging Face Hub, and you'll also need to use an access token for the code to work. For more information on access tokens, please refer to [this section of the documentation](https://huggingface.co/docs/hub/security-tokens)."
      ],
      "metadata": {
        "id": "1Fcyyt0daU4e"
      }
    },
    {
      "cell_type": "markdown",
      "source": [
        "As google colab has disabled external widgtes, we need to enable it explicitly. Run the following cell to be able to use `notebook_login`"
      ],
      "metadata": {
        "id": "ou0Ijygormum"
      }
    },
    {
      "cell_type": "code",
      "source": [
        "from google.colab import output\n",
        "output.enable_custom_widget_manager()"
      ],
      "metadata": {
        "id": "OtrOo8YPoM2b"
      },
      "execution_count": null,
      "outputs": []
    },
    {
      "cell_type": "markdown",
      "source": [
        "Now you can login with your user token. https://huggingface.co/"
      ],
      "metadata": {
        "id": "BHiV7acka4EY"
      }
    },
    {
      "cell_type": "code",
      "execution_count": null,
      "metadata": {
        "id": "8TRAh8G6sNfA"
      },
      "outputs": [],
      "source": [
        "from huggingface_hub import notebook_login\n",
        "\n",
        "notebook_login()"
      ]
    },
    {
      "cell_type": "code",
      "execution_count": null,
      "metadata": {
        "id": "xSKWBKFPArKS"
      },
      "outputs": [],
      "source": [
        "import torch\n",
        "from diffusers import StableDiffusionPipeline\n",
        "\n",
        "# make sure you're logged in with `huggingface-cli login`\n",
        "pipe = StableDiffusionPipeline.from_pretrained(\"CompVis/stable-diffusion-v1-4\", revision=\"fp16\", torch_dtype=torch.float16)  \n",
        "#pipe = StableDiffusionPipeline.from_pretrained(\"CompVis/stable-diffusion-v1-4\")  "
      ]
    },
    {
      "cell_type": "markdown",
      "source": [
        "Next, let's move the pipeline to GPU to have faster inference."
      ],
      "metadata": {
        "id": "8MgNzTxwbASv"
      }
    },
    {
      "cell_type": "code",
      "source": [
        "pipe = pipe.to(\"cuda\")"
      ],
      "metadata": {
        "id": "LA9myHTxbDhm"
      },
      "execution_count": null,
      "outputs": []
    },
    {
      "cell_type": "markdown",
      "metadata": {
        "id": "3NXFFfjsS-zj"
      },
      "source": [
        "Using `autocast` will run inference faster because it uses half-precision."
      ]
    },
    {
      "cell_type": "code",
      "source": [
        "import random"
      ],
      "metadata": {
        "id": "oz4kUWXDGcbY"
      },
      "execution_count": null,
      "outputs": []
    },
    {
      "cell_type": "code",
      "execution_count": null,
      "metadata": {
        "id": "yEErJFjlrSWS"
      },
      "outputs": [],
      "source": [
        "#prompt = \"forest goddess underwater, intricate, elegant, highly detailed, digital painting, artstation, concept art, smooth, sharp focus, illustration, magic all around, photorealism, octane render, 8k, cinematic, 35mm\"\n",
        "#prompt = \"forest underwater with grass and plants and fish, intricate, elegant, highly detailed, digital painting, artstation, concept art, smooth, sharp focus, illustration, magic all around, photorealism, octane render, 8k, cinematic, 35mm\"\n",
        "#prompt = \"underwater forest, realengine\"\n",
        "#prompt = \"A digital illustration of a steampunk library with clockwork machines, 4k, detailed, trending in artstation, fantasy vivid colors\"\n",
        "#prompt = \"Cluttered house in the woods with mist and magic and stars in the sky, anime, oil painting, high resolution, cottagecore, ghibli inspired, 4k\"\n",
        "#prompt = \"A digital illustration of a medieval town, 4k, detailed, trending in artstation, fantasy\"\n",
        "#prompt = \"A beautiful medieval town, in the forest along side a rocky fjord, by Josef Thoma, matte painting, trending on artstation HQ\"\n",
        "#prompt = \"A beautiful mansion with flowered gardens and a fountain, painting, oil on canvas, 4k, detailed, thomas cole\"\n",
        "#prompt = \"wizard, wearing adventure coat, 3d action pose, steampunk, lantern, realengine, trending on artstation HQ\"\n",
        "#prompt = \"wizard forest god casting a spell , digital painting , digital art , artstation , devian art , 4k , HD\"\n",
        "#prompt = \"elven princess meditating in forest, jade, digital art, trending on artstation, ultra detailed, intricate, sacred geometry, serene, beautiful, photo, realistic, perfect, smooth, 8k\"\n",
        "#prompt = \"poseidon humanoid god of the sea, trident, highly detailed, d & d, fantasy, highly detailed, digital painting, trending on artstation, concept art, sharp focus, illustration, art by artgerm and greg rutkowski and magali villeneuve \"\n",
        "#prompt = \"rugged forest god the greeman, highly detailed, cinematic, 8 k, by stanley artgermm, tom bagshaw, greg rutkowski, carne griffiths, ayami kojima, beksinski, giger, trending on deviantart, hyper detailed, horror, full of colour \"\n",
        "#prompt = \"the ocean at night with stars and planets in the sky, studio ghibli, highly detailed, d & d, fantasy, highly detailed, digital painting, trending on artstation, concept art, sharp focus, illustration, art by artgerm and greg rutkowski and magali villeneuve\"\n",
        "#prompt = \"watchlights fade from every room, studio ghibli, highly detailed, highly detailed, digital painting, trending on artstation, concept art, sharp focus, illustration\"\n",
        "#prompt = \"the ocean at night with stars in the sky, by Josef Thoma, matte painting, trending on artstation HQ\"\n",
        "\n",
        "#theobject = \"the ocean at night with stars in the sky\"\n",
        "theobject = \"deep space with stars and planets and galaxies\"\n",
        "\n",
        "style_list = [\"highly detailed,\",\n",
        "#              \"d & d,\",\n",
        "#             \"fantasy,\",\n",
        "#             \"digital painting,\",\n",
        "             \"trending on artstation,\",\n",
        "              \"matte painting\",\n",
        "#             \"concept art,\",\n",
        "#             \"sharp focus,\",\n",
        "#             \"illustration,\",\n",
        "#              \"magic all around,\",\n",
        "#             \"photorealism,\",\n",
        "#             \"octane render,\",\n",
        "#             \"8k,\",\n",
        "#             \"cinematic,\",\n",
        "#             \"35mm,\",\n",
        "             \"\"]\n",
        "thestyle = \" \".join(style_list)\n",
        "\n",
        "\n",
        "art_list = [\\\n",
        "#           \"artgerm,\",\n",
        "#           \"luis royo,\",\n",
        "#           \"greg rutkowski,\",\n",
        "#           \"alphonse mucha,\",\n",
        "#           \"studio ghibl,\",\n",
        "            \"Josef_Thoma,\",\n",
        "            \"\"]\n",
        "theart = \" \".join(art_list)\n",
        "\n",
        "\n",
        "prompt = \"%s, %s, %s\" % (theobject, thestyle, theart)\n",
        "cleanprompt = prompt.replace(\" \", \"_\")\n",
        "print(cleanprompt)\n",
        "filename = \"./images/%s_%s.png\" % (cleanprompt, random.randint(0, 9999999)) \n",
        "\n",
        "#filename = \"./files/StableDiffusion_output_%s.png\" % random.randint(0, 9999999) \n",
        "\n",
        "with open(\"prompt_history.txt\", \"a+\") as file_object:\n",
        "    # Move read cursor to the start of file.\n",
        "    file_object.seek(0)\n",
        "    # If file is not empty then append '\\n'\n",
        "    data = file_object.read(100)\n",
        "    if len(data) > 0 :\n",
        "        file_object.write(\"\\n\")\n",
        "    # Append text at the end of file\n",
        "    file_object.write(\"%s : %s\" % (prompt, filename))\n",
        "\n",
        "#image = pipe(prompt).images[0]\n",
        "#mage = pipe(prompt, height=768, width=512).images[0]\n",
        "#image = pipe(prompt, height=512, width=768).images[0]\n",
        "image = pipe(prompt, height=480, width=856).images[0]\n",
        "#image = pipe(prompt, height=1920, width=1080).images[0]\n",
        "image.save(f\"%s\" % filename)\n",
        "image"
      ]
    },
    {
      "cell_type": "code",
      "source": [
        "#\n",
        "#prompt = \"forest underwater with grass and plants and rocks and fish, intricate, elegant, highly detailed, digital painting, artstation, concept art, smooth, sharp focus, illustration, magic all around, photorealism, octane render, 8k, cinematic, 35mm\"\n",
        "#\n",
        "#prompt = \"poseidon humanoid god of the sea, highly detailed, d & d, fantasy, highly detailed, digital painting, trending on artstation, concept art, sharp focus, illustration, art by artgerm and greg rutkowski and magali villeneuve\"\n",
        "\n",
        "theobject = \"an ocean with large mysterious and forest island in the distance\"\n",
        "\n",
        "style_list = [\"highly detailed,\",\n",
        "#              \"d & d,\",\n",
        "#             \"fantasy,\",\n",
        "#             \"digital painting,\",\n",
        "             \"trending on artstation,\",\n",
        "              \"oil painting\",\n",
        "#             \"concept art,\",\n",
        "#             \"sharp focus,\",\n",
        "#             \"illustration,\",\n",
        "#              \"magic all around,\",\n",
        "#             \"photorealism,\",\n",
        "#             \"octane render,\",\n",
        "#             \"8k,\",\n",
        "#             \"cinematic,\",\n",
        "#             \"35mm,\",\n",
        "             \"\"]\n",
        "thestyle = \" \".join(style_list)\n",
        "\n",
        "\n",
        "art_list = [\\\n",
        "#           \"artgerm,\",\n",
        "#            \"luis royo,\",\n",
        "#          \"greg rutkowski,\",\n",
        "#          \"alphonse mucha,\",\n",
        "#           \"studio ghibl,\",\n",
        "            \"Josef_Thoma,\",\n",
        "            \"\"]\n",
        "theart = \" \".join(art_list)\n",
        "\n",
        "\n",
        "prompt = \"%s, %s, %s\" % (theobject, thestyle, theart)\n",
        "cleanprompt = prompt.replace(\" \", \"_\")\n",
        "print(cleanprompt)\n",
        "\n",
        "\n",
        "for x in range(1000):\n",
        "    \n",
        "    filename = \"./images/%s_%s.png\" % (cleanprompt, random.randint(0, 9999999)) \n",
        "    \n",
        "    #image = pipe(prompt).images[0]\n",
        "    #image = pipe(prompt, height=768, width=512).images[0]\n",
        "    image = pipe(prompt, height=512, width=856).images[0]\n",
        "    #image = pipe(prompt, height=1920, width=1080).images[0]\n",
        "    image.save(f\"%s\" % filename)\n",
        "    print(x)"
      ],
      "metadata": {
        "id": "f9FrgLR2GS92"
      },
      "execution_count": null,
      "outputs": []
    },
    {
      "cell_type": "code",
      "source": [
        "!tar -cvf images.tar images/*"
      ],
      "metadata": {
        "id": "LLf7zk-LMRTh"
      },
      "execution_count": null,
      "outputs": []
    },
    {
      "cell_type": "code",
      "source": [
        "!rm -rf ./images/*"
      ],
      "metadata": {
        "id": "HS8-B4qhNbB3"
      },
      "execution_count": null,
      "outputs": []
    }
  ],
  "metadata": {
    "accelerator": "GPU",
    "colab": {
      "collapsed_sections": [],
      "machine_shape": "hm",
      "provenance": [],
      "include_colab_link": true
    },
    "gpuClass": "standard",
    "kernelspec": {
      "display_name": "Python 3",
      "name": "python3"
    },
    "language_info": {
      "name": "python"
    }
  },
  "nbformat": 4,
  "nbformat_minor": 0
}
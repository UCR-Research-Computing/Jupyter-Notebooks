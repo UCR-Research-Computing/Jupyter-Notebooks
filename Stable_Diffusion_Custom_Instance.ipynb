{
  "cells": [
    {
      "cell_type": "markdown",
      "metadata": {
        "id": "view-in-github",
        "colab_type": "text"
      },
      "source": [
        "<a href=\"https://colab.research.google.com/github/UCR-Research-Computing/Jupyter-Notebooks/blob/main/Stable_Diffusion_Custom_Instance.ipynb\" target=\"_parent\"><img src=\"https://colab.research.google.com/assets/colab-badge.svg\" alt=\"Open In Colab\"/></a>"
      ]
    },
    {
      "cell_type": "code",
      "source": [
        "!pwd\n"
      ],
      "metadata": {
        "colab": {
          "base_uri": "https://localhost:8080/"
        },
        "id": "iqwCg84h48dF",
        "outputId": "94e3edf5-1b7f-482d-ff68-32fcb81f9edb"
      },
      "execution_count": 1,
      "outputs": [
        {
          "output_type": "stream",
          "name": "stdout",
          "text": [
            "/content\n"
          ]
        }
      ]
    },
    {
      "cell_type": "code",
      "source": [
        "!df -h"
      ],
      "metadata": {
        "colab": {
          "base_uri": "https://localhost:8080/"
        },
        "id": "hAiW5Us_83t_",
        "outputId": "a587f283-e504-4900-8157-3cb0bb9f4024"
      },
      "execution_count": 2,
      "outputs": [
        {
          "output_type": "stream",
          "name": "stdout",
          "text": [
            "Filesystem      Size  Used Avail Use% Mounted on\n",
            "overlay         187G   52G  136G  28% /\n",
            "tmpfs            64M     0   64M   0% /dev\n",
            "shm             5.3G     0  5.3G   0% /dev/shm\n",
            "tmpfs           6.4G   32K  6.4G   1% /var/colab\n",
            "/dev/sda1       196G  103G   94G  53% /opt/bin\n",
            "tmpfs           6.4G     0  6.4G   0% /proc/acpi\n",
            "tmpfs           6.4G     0  6.4G   0% /proc/scsi\n",
            "tmpfs           6.4G     0  6.4G   0% /sys/firmware\n"
          ]
        }
      ]
    },
    {
      "cell_type": "code",
      "execution_count": 3,
      "metadata": {
        "colab": {
          "base_uri": "https://localhost:8080/"
        },
        "id": "zHkHsdtnry57",
        "outputId": "8cde2430-cda4-4514-b193-6038d554e058"
      },
      "outputs": [
        {
          "output_type": "stream",
          "name": "stdout",
          "text": [
            "Fri Oct 21 05:35:14 2022       \n",
            "+-----------------------------------------------------------------------------+\n",
            "| NVIDIA-SMI 460.32.03    Driver Version: 460.32.03    CUDA Version: 11.2     |\n",
            "|-------------------------------+----------------------+----------------------+\n",
            "| GPU  Name        Persistence-M| Bus-Id        Disp.A | Volatile Uncorr. ECC |\n",
            "| Fan  Temp  Perf  Pwr:Usage/Cap|         Memory-Usage | GPU-Util  Compute M. |\n",
            "|                               |                      |               MIG M. |\n",
            "|===============================+======================+======================|\n",
            "|   0  Tesla T4            Off  | 00000000:00:04.0 Off |                    0 |\n",
            "| N/A   42C    P8     9W /  70W |      0MiB / 15109MiB |      0%      Default |\n",
            "|                               |                      |                  N/A |\n",
            "+-------------------------------+----------------------+----------------------+\n",
            "                                                                               \n",
            "+-----------------------------------------------------------------------------+\n",
            "| Processes:                                                                  |\n",
            "|  GPU   GI   CI        PID   Type   Process name                  GPU Memory |\n",
            "|        ID   ID                                                   Usage      |\n",
            "|=============================================================================|\n",
            "|  No running processes found                                                 |\n",
            "+-----------------------------------------------------------------------------+\n"
          ]
        }
      ],
      "source": [
        "!nvidia-smi"
      ]
    },
    {
      "cell_type": "markdown",
      "metadata": {
        "id": "paJt_cx5QgVz"
      },
      "source": [
        "Next, you should install `diffusers==0.4.0` as well `scipy`, `ftfy` and `transformers`."
      ]
    },
    {
      "cell_type": "code",
      "execution_count": null,
      "metadata": {
        "id": "aIrgth7sqFML"
      },
      "outputs": [],
      "source": [
        "!pip install diffusers==0.4.0\n",
        "!pip install transformers scipy ftfy\n",
        "!pip install \"ipywidgets>=7,<8\""
      ]
    },
    {
      "cell_type": "markdown",
      "source": [
        "You also need to accept the model license before downloading or using the weights. In this post we'll use model version `v1-4`, so you'll need to  visit [its card](https://huggingface.co/CompVis/stable-diffusion-v1-4), read the license and tick the checkbox if you agree. \n",
        "\n",
        "You have to be a registered user in 🤗 Hugging Face Hub, and you'll also need to use an access token for the code to work. For more information on access tokens, please refer to [this section of the documentation](https://huggingface.co/docs/hub/security-tokens)."
      ],
      "metadata": {
        "id": "1Fcyyt0daU4e"
      }
    },
    {
      "cell_type": "markdown",
      "source": [
        "As google colab has disabled external widgtes, we need to enable it explicitly. Run the following cell to be able to use `notebook_login`"
      ],
      "metadata": {
        "id": "ou0Ijygormum"
      }
    },
    {
      "cell_type": "code",
      "source": [
        "from google.colab import output\n",
        "output.enable_custom_widget_manager()"
      ],
      "metadata": {
        "id": "OtrOo8YPoM2b"
      },
      "execution_count": 5,
      "outputs": []
    },
    {
      "cell_type": "markdown",
      "source": [
        "Now you can login with your user token. https://huggingface.co/"
      ],
      "metadata": {
        "id": "BHiV7acka4EY"
      }
    },
    {
      "cell_type": "code",
      "execution_count": null,
      "metadata": {
        "id": "8TRAh8G6sNfA"
      },
      "outputs": [],
      "source": [
        "from huggingface_hub import notebook_login\n",
        "\n",
        "notebook_login()"
      ]
    },
    {
      "cell_type": "code",
      "execution_count": 7,
      "metadata": {
        "id": "xSKWBKFPArKS",
        "outputId": "01a209a1-ae63-4ceb-ea90-765ab62d0ba6",
        "colab": {
          "base_uri": "https://localhost:8080/",
          "height": 49,
          "referenced_widgets": [
            "e3d3c5f8e59648688aebc1dda7453f59",
            "12b5c691faa04253a56bf57e00afa3aa",
            "cfa93f8379b841898f7162238107eead",
            "4462a6ffd3f640df87ba68355c07e55a",
            "f78e9dc2b5034c2c9af3b1e314ac4e18",
            "a483fbf172f74c5592420392e4e9ceeb",
            "a0957ebb1624445686e9d61f4cf02853",
            "1779f9002392470ca7afd1670c81b933",
            "9c94f21cf81c4537b0128ad955e91b0c",
            "5d8ce0b89c1b4b56945a349f3deb067e",
            "1b5e53da38c54843bb58abd40f9e0110"
          ]
        }
      },
      "outputs": [
        {
          "output_type": "display_data",
          "data": {
            "application/vnd.jupyter.widget-view+json": {
              "model_id": "e3d3c5f8e59648688aebc1dda7453f59",
              "version_minor": 0,
              "version_major": 2
            },
            "text/plain": [
              "Fetching 16 files:   0%|          | 0/16 [00:00<?, ?it/s]"
            ]
          },
          "metadata": {
            "application/vnd.jupyter.widget-view+json": {
              "colab": {
                "custom_widget_manager": {
                  "url": "https://ssl.gstatic.com/colaboratory-static/widgets/colab-cdn-widget-manager/a8874ba6619b6106/manager.min.js"
                }
              }
            }
          }
        }
      ],
      "source": [
        "import torch\n",
        "from diffusers import StableDiffusionPipeline\n",
        "\n",
        "# make sure you're logged in with `huggingface-cli login`\n",
        "pipe = StableDiffusionPipeline.from_pretrained(\"CompVis/stable-diffusion-v1-4\", revision=\"fp16\", torch_dtype=torch.float16)  \n",
        "#pipe = StableDiffusionPipeline.from_pretrained(\"CompVis/stable-diffusion-v1-4\")  "
      ]
    },
    {
      "cell_type": "markdown",
      "source": [
        "Next, let's move the pipeline to GPU to have faster inference."
      ],
      "metadata": {
        "id": "8MgNzTxwbASv"
      }
    },
    {
      "cell_type": "code",
      "source": [
        "pipe = pipe.to(\"cuda\")"
      ],
      "metadata": {
        "id": "LA9myHTxbDhm"
      },
      "execution_count": 8,
      "outputs": []
    },
    {
      "cell_type": "markdown",
      "metadata": {
        "id": "3NXFFfjsS-zj"
      },
      "source": [
        "Using `autocast` will run inference faster because it uses half-precision."
      ]
    },
    {
      "cell_type": "code",
      "source": [
        "import random"
      ],
      "metadata": {
        "id": "oz4kUWXDGcbY"
      },
      "execution_count": 24,
      "outputs": []
    },
    {
      "cell_type": "code",
      "execution_count": null,
      "metadata": {
        "id": "yEErJFjlrSWS"
      },
      "outputs": [],
      "source": [
        "#prompt = \"two cannabis women in a haunted room with a young beautiful blond witch wearing a gown and a sexy magical dark haired beautiful woman witch wearing a cloak smoking cannabis around a ouija board marijuana joints wearing pointy witch hats with spooky lighting summoning ghosts in luis royo art style\"\n",
        "#prompt = \"forest goddess underwater, intricate, elegant, highly detailed, digital painting, artstation, concept art, smooth, sharp focus, illustration, magic all around, photorealism, octane render, 8k, cinematic, 35mm\"\n",
        "#prompt = \"forest underwater with grass and plants and fish, intricate, elegant, highly detailed, digital painting, artstation, concept art, smooth, sharp focus, illustration, magic all around, photorealism, octane render, 8k, cinematic, 35mm\"\n",
        "#prompt = \"underwater forest, realengine\"\n",
        "#prompt = \"A digital illustration of a steampunk library with clockwork machines, 4k, detailed, trending in artstation, fantasy vivid colors\"\n",
        "#prompt = \"Cluttered house in the woods with mist and magic and stars in the sky, anime, oil painting, high resolution, cottagecore, ghibli inspired, 4k\"\n",
        "#prompt = \"A digital illustration of a medieval town, 4k, detailed, trending in artstation, fantasy\"\n",
        "#prompt = \"A beautiful medieval town, in the forest along side a rocky fjord, by Josef Thoma, matte painting, trending on artstation HQ\"\n",
        "#prompt = \"A beautiful mansion with flowered gardens and a fountain, painting, oil on canvas, 4k, detailed, thomas cole\"\n",
        "#prompt = \"wizard, wearing adventure coat, 3d action pose, steampunk, lantern, realengine, trending on artstation HQ\"\n",
        "#prompt = \"wizard forest god casting a spell , digital painting , digital art , artstation , devian art , 4k , HD\"\n",
        "#prompt = \"elven princess meditating in forest, jade, digital art, trending on artstation, ultra detailed, intricate, sacred geometry, serene, beautiful, photo, realistic, perfect, smooth, 8k\"\n",
        "#prompt = \"poseidon humanoid god of the sea, trident, highly detailed, d & d, fantasy, highly detailed, digital painting, trending on artstation, concept art, sharp focus, illustration, art by artgerm and greg rutkowski and magali villeneuve \"\n",
        "#prompt = \"rugged forest god the greeman, highly detailed, cinematic, 8 k, by stanley artgermm, tom bagshaw, greg rutkowski, carne griffiths, ayami kojima, beksinski, giger, trending on deviantart, hyper detailed, horror, full of colour \"\n",
        "#prompt = \"sexy female poseidon humanoid goddess of the sea, highly detailed, d & d, fantasy, highly detailed, digital painting, trending on artstation, concept art, sharp focus, illustration, art by artgerm and greg rutkowski and magali villeneuve\"\n",
        "#prompt = \"sexy female poseidon humanoid goddess of the sea, highly detailed, d & d, fantasy, highly detailed, digital painting, trending on artstation, concept art, sharp focus, illustration, art by artgerm and greg rutkowski and alphonse mucha\"\n",
        "#prompt = \"the ocean at night with stars and planets in the sky, studio ghibli, highly detailed, d & d, fantasy, highly detailed, digital painting, trending on artstation, concept art, sharp focus, illustration, art by artgerm and greg rutkowski and magali villeneuve\"\n",
        "#prompt = \"watchlights fade from every room, studio ghibli, highly detailed, highly detailed, digital painting, trending on artstation, concept art, sharp focus, illustration\"\n",
        "#prompt = \"the ocean at night with stars in the sky, by Josef Thoma, matte painting, trending on artstation HQ\"\n",
        "\n",
        "#theobject = \"the ocean at night with stars in the sky\"\n",
        "theobject = \"deep space with stars and planets and galaxies\"\n",
        "\n",
        "style_list = [\"highly detailed,\",\n",
        "#              \"d & d,\",\n",
        "#             \"fantasy,\",\n",
        "#             \"digital painting,\",\n",
        "             \"trending on artstation,\",\n",
        "              \"matte painting\",\n",
        "#             \"concept art,\",\n",
        "#             \"sharp focus,\",\n",
        "#             \"illustration,\",\n",
        "#              \"magic all around,\",\n",
        "#             \"photorealism,\",\n",
        "#             \"octane render,\",\n",
        "#             \"8k,\",\n",
        "#             \"cinematic,\",\n",
        "#             \"35mm,\",\n",
        "             \"\"]\n",
        "thestyle = \" \".join(style_list)\n",
        "\n",
        "\n",
        "art_list = [\\\n",
        "#           \"artgerm,\",\n",
        "#           \"luis royo,\",\n",
        "#           \"greg rutkowski,\",\n",
        "#           \"alphonse mucha,\",\n",
        "#           \"studio ghibl,\",\n",
        "            \"Josef_Thoma,\",\n",
        "            \"\"]\n",
        "theart = \" \".join(art_list)\n",
        "\n",
        "\n",
        "prompt = \"%s, %s, %s\" % (theobject, thestyle, theart)\n",
        "cleanprompt = prompt.replace(\" \", \"_\")\n",
        "print(cleanprompt)\n",
        "filename = \"./images/%s_%s.png\" % (cleanprompt, random.randint(0, 9999999)) \n",
        "\n",
        "#filename = \"./files/StableDiffusion_output_%s.png\" % random.randint(0, 9999999) \n",
        "\n",
        "with open(\"prompt_history.txt\", \"a+\") as file_object:\n",
        "    # Move read cursor to the start of file.\n",
        "    file_object.seek(0)\n",
        "    # If file is not empty then append '\\n'\n",
        "    data = file_object.read(100)\n",
        "    if len(data) > 0 :\n",
        "        file_object.write(\"\\n\")\n",
        "    # Append text at the end of file\n",
        "    file_object.write(\"%s : %s\" % (prompt, filename))\n",
        "\n",
        "#image = pipe(prompt).images[0]\n",
        "#mage = pipe(prompt, height=768, width=512).images[0]\n",
        "#image = pipe(prompt, height=512, width=768).images[0]\n",
        "image = pipe(prompt, height=480, width=856).images[0]\n",
        "#image = pipe(prompt, height=1920, width=1080).images[0]\n",
        "image.save(f\"%s\" % filename)\n",
        "image"
      ]
    },
    {
      "cell_type": "code",
      "source": [
        "#\n",
        "#prompt = \"forest underwater with grass and plants and rocks and fish, intricate, elegant, highly detailed, digital painting, artstation, concept art, smooth, sharp focus, illustration, magic all around, photorealism, octane render, 8k, cinematic, 35mm\"\n",
        "#\n",
        "#prompt = \"poseidon humanoid god of the sea, highly detailed, d & d, fantasy, highly detailed, digital painting, trending on artstation, concept art, sharp focus, illustration, art by artgerm and greg rutkowski and magali villeneuve\"\n",
        "\n",
        "theobject = \"deep space with stars and planets and galaxies\"\n",
        "\n",
        "style_list = [\"highly detailed,\",\n",
        "#              \"d & d,\",\n",
        "#             \"fantasy,\",\n",
        "#             \"digital painting,\",\n",
        "             \"trending on artstation,\",\n",
        "              \"matte painting\",\n",
        "#             \"concept art,\",\n",
        "#             \"sharp focus,\",\n",
        "#             \"illustration,\",\n",
        "#              \"magic all around,\",\n",
        "#             \"photorealism,\",\n",
        "#             \"octane render,\",\n",
        "#             \"8k,\",\n",
        "#             \"cinematic,\",\n",
        "#             \"35mm,\",\n",
        "             \"\"]\n",
        "thestyle = \" \".join(style_list)\n",
        "\n",
        "\n",
        "art_list = [\\\n",
        "#           \"artgerm,\",\n",
        "#            \"luis royo,\",\n",
        "#          \"greg rutkowski,\",\n",
        "#          \"alphonse mucha,\",\n",
        "#           \"studio ghibl,\",\n",
        "            \"Josef_Thoma,\",\n",
        "            \"\"]\n",
        "theart = \" \".join(art_list)\n",
        "\n",
        "\n",
        "prompt = \"%s, %s, %s\" % (theobject, thestyle, theart)\n",
        "cleanprompt = prompt.replace(\" \", \"_\")\n",
        "print(cleanprompt)\n",
        "\n",
        "\n",
        "for x in range(1000):\n",
        "    \n",
        "    filename = \"./images/%s_%s.png\" % (cleanprompt, random.randint(0, 9999999)) \n",
        "    \n",
        "    #image = pipe(prompt).images[0]\n",
        "    #image = pipe(prompt, height=768, width=512).images[0]\n",
        "    image = pipe(prompt, height=512, width=856).images[0]\n",
        "    #image = pipe(prompt, height=1920, width=1080).images[0]\n",
        "    image.save(f\"%s\" % filename)\n",
        "    print(x)"
      ],
      "metadata": {
        "id": "f9FrgLR2GS92"
      },
      "execution_count": null,
      "outputs": []
    },
    {
      "cell_type": "code",
      "source": [
        "!tar -cvf images.tar images/*"
      ],
      "metadata": {
        "id": "LLf7zk-LMRTh"
      },
      "execution_count": null,
      "outputs": []
    },
    {
      "cell_type": "code",
      "source": [
        "!rm -rf ./images/*"
      ],
      "metadata": {
        "id": "HS8-B4qhNbB3"
      },
      "execution_count": 22,
      "outputs": []
    }
  ],
  "metadata": {
    "accelerator": "GPU",
    "colab": {
      "collapsed_sections": [],
      "machine_shape": "hm",
      "provenance": [],
      "include_colab_link": true
    },
    "gpuClass": "standard",
    "kernelspec": {
      "display_name": "Python 3",
      "name": "python3"
    },
    "language_info": {
      "name": "python"
    },
    "widgets": {
      "application/vnd.jupyter.widget-state+json": {
        "e3d3c5f8e59648688aebc1dda7453f59": {
          "model_module": "@jupyter-widgets/controls",
          "model_name": "HBoxModel",
          "model_module_version": "1.5.0",
          "state": {
            "_view_name": "HBoxView",
            "_dom_classes": [],
            "_model_name": "HBoxModel",
            "_view_module": "@jupyter-widgets/controls",
            "_model_module_version": "1.5.0",
            "_view_count": null,
            "_view_module_version": "1.5.0",
            "box_style": "",
            "layout": "IPY_MODEL_12b5c691faa04253a56bf57e00afa3aa",
            "_model_module": "@jupyter-widgets/controls",
            "children": [
              "IPY_MODEL_cfa93f8379b841898f7162238107eead",
              "IPY_MODEL_4462a6ffd3f640df87ba68355c07e55a",
              "IPY_MODEL_f78e9dc2b5034c2c9af3b1e314ac4e18"
            ]
          }
        },
        "12b5c691faa04253a56bf57e00afa3aa": {
          "model_module": "@jupyter-widgets/base",
          "model_name": "LayoutModel",
          "model_module_version": "1.2.0",
          "state": {
            "_view_name": "LayoutView",
            "grid_template_rows": null,
            "right": null,
            "justify_content": null,
            "_view_module": "@jupyter-widgets/base",
            "overflow": null,
            "_model_module_version": "1.2.0",
            "_view_count": null,
            "flex_flow": null,
            "width": null,
            "min_width": null,
            "border": null,
            "align_items": null,
            "bottom": null,
            "_model_module": "@jupyter-widgets/base",
            "top": null,
            "grid_column": null,
            "overflow_y": null,
            "overflow_x": null,
            "grid_auto_flow": null,
            "grid_area": null,
            "grid_template_columns": null,
            "flex": null,
            "_model_name": "LayoutModel",
            "justify_items": null,
            "grid_row": null,
            "max_height": null,
            "align_content": null,
            "visibility": null,
            "align_self": null,
            "height": null,
            "min_height": null,
            "padding": null,
            "grid_auto_rows": null,
            "grid_gap": null,
            "max_width": null,
            "order": null,
            "_view_module_version": "1.2.0",
            "grid_template_areas": null,
            "object_position": null,
            "object_fit": null,
            "grid_auto_columns": null,
            "margin": null,
            "display": null,
            "left": null
          }
        },
        "cfa93f8379b841898f7162238107eead": {
          "model_module": "@jupyter-widgets/controls",
          "model_name": "HTMLModel",
          "model_module_version": "1.5.0",
          "state": {
            "_view_name": "HTMLView",
            "style": "IPY_MODEL_a483fbf172f74c5592420392e4e9ceeb",
            "_dom_classes": [],
            "description": "",
            "_model_name": "HTMLModel",
            "placeholder": "​",
            "_view_module": "@jupyter-widgets/controls",
            "_model_module_version": "1.5.0",
            "value": "Fetching 16 files: 100%",
            "_view_count": null,
            "_view_module_version": "1.5.0",
            "description_tooltip": null,
            "_model_module": "@jupyter-widgets/controls",
            "layout": "IPY_MODEL_a0957ebb1624445686e9d61f4cf02853"
          }
        },
        "4462a6ffd3f640df87ba68355c07e55a": {
          "model_module": "@jupyter-widgets/controls",
          "model_name": "FloatProgressModel",
          "model_module_version": "1.5.0",
          "state": {
            "_view_name": "ProgressView",
            "style": "IPY_MODEL_1779f9002392470ca7afd1670c81b933",
            "_dom_classes": [],
            "description": "",
            "_model_name": "FloatProgressModel",
            "bar_style": "success",
            "max": 16,
            "_view_module": "@jupyter-widgets/controls",
            "_model_module_version": "1.5.0",
            "value": 16,
            "_view_count": null,
            "_view_module_version": "1.5.0",
            "orientation": "horizontal",
            "min": 0,
            "description_tooltip": null,
            "_model_module": "@jupyter-widgets/controls",
            "layout": "IPY_MODEL_9c94f21cf81c4537b0128ad955e91b0c"
          }
        },
        "f78e9dc2b5034c2c9af3b1e314ac4e18": {
          "model_module": "@jupyter-widgets/controls",
          "model_name": "HTMLModel",
          "model_module_version": "1.5.0",
          "state": {
            "_view_name": "HTMLView",
            "style": "IPY_MODEL_5d8ce0b89c1b4b56945a349f3deb067e",
            "_dom_classes": [],
            "description": "",
            "_model_name": "HTMLModel",
            "placeholder": "​",
            "_view_module": "@jupyter-widgets/controls",
            "_model_module_version": "1.5.0",
            "value": " 16/16 [00:00&lt;00:00, 186.55it/s]",
            "_view_count": null,
            "_view_module_version": "1.5.0",
            "description_tooltip": null,
            "_model_module": "@jupyter-widgets/controls",
            "layout": "IPY_MODEL_1b5e53da38c54843bb58abd40f9e0110"
          }
        },
        "a483fbf172f74c5592420392e4e9ceeb": {
          "model_module": "@jupyter-widgets/controls",
          "model_name": "DescriptionStyleModel",
          "model_module_version": "1.5.0",
          "state": {
            "_view_name": "StyleView",
            "_model_name": "DescriptionStyleModel",
            "description_width": "",
            "_view_module": "@jupyter-widgets/base",
            "_model_module_version": "1.5.0",
            "_view_count": null,
            "_view_module_version": "1.2.0",
            "_model_module": "@jupyter-widgets/controls"
          }
        },
        "a0957ebb1624445686e9d61f4cf02853": {
          "model_module": "@jupyter-widgets/base",
          "model_name": "LayoutModel",
          "model_module_version": "1.2.0",
          "state": {
            "_view_name": "LayoutView",
            "grid_template_rows": null,
            "right": null,
            "justify_content": null,
            "_view_module": "@jupyter-widgets/base",
            "overflow": null,
            "_model_module_version": "1.2.0",
            "_view_count": null,
            "flex_flow": null,
            "width": null,
            "min_width": null,
            "border": null,
            "align_items": null,
            "bottom": null,
            "_model_module": "@jupyter-widgets/base",
            "top": null,
            "grid_column": null,
            "overflow_y": null,
            "overflow_x": null,
            "grid_auto_flow": null,
            "grid_area": null,
            "grid_template_columns": null,
            "flex": null,
            "_model_name": "LayoutModel",
            "justify_items": null,
            "grid_row": null,
            "max_height": null,
            "align_content": null,
            "visibility": null,
            "align_self": null,
            "height": null,
            "min_height": null,
            "padding": null,
            "grid_auto_rows": null,
            "grid_gap": null,
            "max_width": null,
            "order": null,
            "_view_module_version": "1.2.0",
            "grid_template_areas": null,
            "object_position": null,
            "object_fit": null,
            "grid_auto_columns": null,
            "margin": null,
            "display": null,
            "left": null
          }
        },
        "1779f9002392470ca7afd1670c81b933": {
          "model_module": "@jupyter-widgets/controls",
          "model_name": "ProgressStyleModel",
          "model_module_version": "1.5.0",
          "state": {
            "_view_name": "StyleView",
            "_model_name": "ProgressStyleModel",
            "description_width": "",
            "_view_module": "@jupyter-widgets/base",
            "_model_module_version": "1.5.0",
            "_view_count": null,
            "_view_module_version": "1.2.0",
            "bar_color": null,
            "_model_module": "@jupyter-widgets/controls"
          }
        },
        "9c94f21cf81c4537b0128ad955e91b0c": {
          "model_module": "@jupyter-widgets/base",
          "model_name": "LayoutModel",
          "model_module_version": "1.2.0",
          "state": {
            "_view_name": "LayoutView",
            "grid_template_rows": null,
            "right": null,
            "justify_content": null,
            "_view_module": "@jupyter-widgets/base",
            "overflow": null,
            "_model_module_version": "1.2.0",
            "_view_count": null,
            "flex_flow": null,
            "width": null,
            "min_width": null,
            "border": null,
            "align_items": null,
            "bottom": null,
            "_model_module": "@jupyter-widgets/base",
            "top": null,
            "grid_column": null,
            "overflow_y": null,
            "overflow_x": null,
            "grid_auto_flow": null,
            "grid_area": null,
            "grid_template_columns": null,
            "flex": null,
            "_model_name": "LayoutModel",
            "justify_items": null,
            "grid_row": null,
            "max_height": null,
            "align_content": null,
            "visibility": null,
            "align_self": null,
            "height": null,
            "min_height": null,
            "padding": null,
            "grid_auto_rows": null,
            "grid_gap": null,
            "max_width": null,
            "order": null,
            "_view_module_version": "1.2.0",
            "grid_template_areas": null,
            "object_position": null,
            "object_fit": null,
            "grid_auto_columns": null,
            "margin": null,
            "display": null,
            "left": null
          }
        },
        "5d8ce0b89c1b4b56945a349f3deb067e": {
          "model_module": "@jupyter-widgets/controls",
          "model_name": "DescriptionStyleModel",
          "model_module_version": "1.5.0",
          "state": {
            "_view_name": "StyleView",
            "_model_name": "DescriptionStyleModel",
            "description_width": "",
            "_view_module": "@jupyter-widgets/base",
            "_model_module_version": "1.5.0",
            "_view_count": null,
            "_view_module_version": "1.2.0",
            "_model_module": "@jupyter-widgets/controls"
          }
        },
        "1b5e53da38c54843bb58abd40f9e0110": {
          "model_module": "@jupyter-widgets/base",
          "model_name": "LayoutModel",
          "model_module_version": "1.2.0",
          "state": {
            "_view_name": "LayoutView",
            "grid_template_rows": null,
            "right": null,
            "justify_content": null,
            "_view_module": "@jupyter-widgets/base",
            "overflow": null,
            "_model_module_version": "1.2.0",
            "_view_count": null,
            "flex_flow": null,
            "width": null,
            "min_width": null,
            "border": null,
            "align_items": null,
            "bottom": null,
            "_model_module": "@jupyter-widgets/base",
            "top": null,
            "grid_column": null,
            "overflow_y": null,
            "overflow_x": null,
            "grid_auto_flow": null,
            "grid_area": null,
            "grid_template_columns": null,
            "flex": null,
            "_model_name": "LayoutModel",
            "justify_items": null,
            "grid_row": null,
            "max_height": null,
            "align_content": null,
            "visibility": null,
            "align_self": null,
            "height": null,
            "min_height": null,
            "padding": null,
            "grid_auto_rows": null,
            "grid_gap": null,
            "max_width": null,
            "order": null,
            "_view_module_version": "1.2.0",
            "grid_template_areas": null,
            "object_position": null,
            "object_fit": null,
            "grid_auto_columns": null,
            "margin": null,
            "display": null,
            "left": null
          }
        }
      }
    }
  },
  "nbformat": 4,
  "nbformat_minor": 0
}
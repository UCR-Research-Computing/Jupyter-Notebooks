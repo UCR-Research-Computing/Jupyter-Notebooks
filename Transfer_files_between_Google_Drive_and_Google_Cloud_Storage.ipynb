{
  "nbformat": 4,
  "nbformat_minor": 0,
  "metadata": {
    "colab": {
      "provenance": [],
      "collapsed_sections": [],
      "include_colab_link": true
    },
    "kernelspec": {
      "name": "python3",
      "display_name": "Python 3"
    }
  },
  "cells": [
    {
      "cell_type": "markdown",
      "metadata": {
        "id": "view-in-github",
        "colab_type": "text"
      },
      "source": [
        "<a href=\"https://colab.research.google.com/github/UCR-Research-Computing/Jupyter-Notebooks/blob/main/Transfer_files_between_Google_Drive_and_Google_Cloud_Storage.ipynb\" target=\"_parent\"><img src=\"https://colab.research.google.com/assets/colab-badge.svg\" alt=\"Open In Colab\"/></a>"
      ]
    },
    {
      "cell_type": "markdown",
      "metadata": {
        "id": "OPk9CrZM8bXx"
      },
      "source": [
        "# Transfer files between Google Drive and Google Cloud Storage\n",
        "This example shows how to transfer files from your Google Drive to a Google Cloud Storage project. We mount Google Drive using the google colab tools which requires authenticating in a separate brower window. Then we authenticate and connect our Google Cloud Storage project, list all buckets, and start copying files from Google Drive to our bucket."
      ]
    },
    {
      "cell_type": "code",
      "metadata": {
        "id": "gYyUbZ9j01LG",
        "cellView": "form"
      },
      "source": [
        "#@title Run to mount Google Drive as google_drive\n",
        "from google.colab import drive\n",
        "drive.mount('/content/google_drive')"
      ],
      "execution_count": null,
      "outputs": []
    },
    {
      "cell_type": "code",
      "metadata": {
        "id": "aehvgY-u7zRe",
        "cellView": "form"
      },
      "source": [
        "#@title Run to configure Google Cloud Service\n",
        "from google.colab import auth\n",
        "auth.authenticate_user()\n",
        "\n",
        "#@markdown Enter the project_id of the Google Cloud Service you want to connect to and run the cell.\n",
        "project_id = \"ucr-research-computing\" #@param {type:\"string\"}\n",
        "!gcloud config set project {project_id}\n",
        "!gsutil ls\n",
        "#@markdown Output is a listing of the current Cloud Storage buckets for this project_id."
      ],
      "execution_count": null,
      "outputs": []
    },
    {
      "cell_type": "code",
      "source": [
        "#@title Set paths\n",
        "google_drive_path = \"/content/drive/test/*\" #@param {type:\"string\"}\n",
        "google_cloud_storage_path = \"ucr-research-computing/ciber/\" #@param {type:\"string\"}"
      ],
      "metadata": {
        "id": "HCtzfktl6v3a",
        "cellView": "form"
      },
      "execution_count": 35,
      "outputs": []
    },
    {
      "cell_type": "code",
      "metadata": {
        "id": "bFfQadlr0_Wy",
        "cellView": "form"
      },
      "source": [
        "#@title Copy function - google_drive_path to google_cloud_storage_path\n",
        "!gsutil -m cp -r {google_drive_path} gs://{google_cloud_storage_path}"
      ],
      "execution_count": null,
      "outputs": []
    },
    {
      "cell_type": "code",
      "metadata": {
        "id": "zXD1VLHWTboe",
        "cellView": "form"
      },
      "source": [
        "#@title List function - google_cloud_storage_path\n",
        "!gsutil ls -lh gs://{google_cloud_storage_path}"
      ],
      "execution_count": null,
      "outputs": []
    },
    {
      "cell_type": "code",
      "metadata": {
        "id": "nxtlhozgT14b",
        "cellView": "form"
      },
      "source": [
        "#@title Delete function - google_cloud_storage_path\n",
        "!gsutil -m rm -r gs://{google_cloud_storage_path}"
      ],
      "execution_count": null,
      "outputs": []
    },
    {
      "cell_type": "code",
      "source": [],
      "metadata": {
        "id": "5N-uIwAJT_vx"
      },
      "execution_count": null,
      "outputs": []
    }
  ]
}
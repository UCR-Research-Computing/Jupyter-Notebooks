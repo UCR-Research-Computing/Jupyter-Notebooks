{
  "nbformat": 4,
  "nbformat_minor": 0,
  "metadata": {
    "colab": {
      "provenance": [],
      "collapsed_sections": [],
      "include_colab_link": true
    },
    "kernelspec": {
      "name": "python3",
      "display_name": "Python 3"
    }
  },
  "cells": [
    {
      "cell_type": "markdown",
      "metadata": {
        "id": "view-in-github",
        "colab_type": "text"
      },
      "source": [
        "<a href=\"https://colab.research.google.com/github/charles-forsyth/ipynb-examples/blob/main/Transfer_Google_Drive_to_GCS.ipynb\" target=\"_parent\"><img src=\"https://colab.research.google.com/assets/colab-badge.svg\" alt=\"Open In Colab\"/></a>"
      ]
    },
    {
      "cell_type": "markdown",
      "metadata": {
        "id": "OPk9CrZM8bXx"
      },
      "source": [
        "# Transferring data from Google Drive to Google Cloud Storage\n",
        "This example shows how to transfer files from your Google Drive to a Google Cloud Storage project. We mount Google Drive using the google colab tools which requires authenticating in a separate brower window. Then we authenticate and connect our Google Cloud Storage project, list all buckets, and start copying files from Google Drive to our bucket."
      ]
    },
    {
      "cell_type": "code",
      "metadata": {
        "id": "gYyUbZ9j01LG",
        "colab": {
          "base_uri": "https://localhost:8080/"
        },
        "outputId": "6847a565-f37d-4a35-fedd-49cd92ff887d"
      },
      "source": [
        "from google.colab import drive\n",
        "drive.mount('/content/drive')"
      ],
      "execution_count": null,
      "outputs": [
        {
          "output_type": "stream",
          "name": "stdout",
          "text": [
            "Mounted at /content/drive\n"
          ]
        }
      ]
    },
    {
      "cell_type": "code",
      "metadata": {
        "id": "aehvgY-u7zRe"
      },
      "source": [
        "from google.colab import auth\n",
        "auth.authenticate_user()\n",
        "\n",
        "project_id = 'ucr-research-computing'\n",
        "!gcloud config set project {project_id}\n",
        "!gsutil ls\n"
      ],
      "execution_count": null,
      "outputs": []
    },
    {
      "cell_type": "code",
      "metadata": {
        "id": "bFfQadlr0_Wy"
      },
      "source": [
        "bucket_name = 'ucr-research-computing'\n",
        "\n",
        "!gsutil -m cp -r /content/drive/MyDrive/Files/Repos/repos/scripts/* gs://{bucket_name}/"
      ],
      "execution_count": null,
      "outputs": []
    },
    {
      "cell_type": "code",
      "metadata": {
        "id": "zXD1VLHWTboe"
      },
      "source": [
        "bucket_name = 'ucr-research-computing'\n",
        "\n",
        "!gsutil ls -lh gs://{bucket_name}/"
      ],
      "execution_count": null,
      "outputs": []
    },
    {
      "cell_type": "code",
      "metadata": {
        "id": "nxtlhozgT14b"
      },
      "source": [
        "bucket_name = 'ucr-research-computing'\n",
        "\n",
        "!gsutil -m rm -r gs://{bucket_name}/*"
      ],
      "execution_count": null,
      "outputs": []
    },
    {
      "cell_type": "code",
      "source": [],
      "metadata": {
        "id": "5N-uIwAJT_vx"
      },
      "execution_count": null,
      "outputs": []
    }
  ]
}